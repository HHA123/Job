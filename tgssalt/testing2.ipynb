{
 "cells": [
  {
   "cell_type": "code",
   "execution_count": 1,
   "metadata": {},
   "outputs": [
    {
     "name": "stderr",
     "output_type": "stream",
     "text": [
      "Using TensorFlow backend.\n"
     ]
    }
   ],
   "source": [
    "import os\n",
    "import sys\n",
    "import random\n",
    "import warnings\n",
    "\n",
    "import pandas as pd\n",
    "import numpy as np\n",
    "\n",
    "import matplotlib.pyplot as plt\n",
    "plt.style.use('seaborn-white')\n",
    "import seaborn as sns\n",
    "sns.set_style(\"white\")\n",
    "%matplotlib inline\n",
    "\n",
    "from tqdm import tqdm_notebook, tnrange\n",
    "from itertools import chain\n",
    "\n",
    "from skimage.io import imread, imshow, concatenate_images\n",
    "from skimage.transform import resize\n",
    "from skimage.morphology import label\n",
    "\n",
    "from sklearn.model_selection import train_test_split\n",
    "import tensorflow as tf\n",
    "#gpu_options = tf.GPUOptions(allow_growth=True,per_process_gpu_memory_fraction=0.333)\n",
    "#s = tf.InteractiveSession(config=tf.ConfigProto(gpu_options=gpu_options))\n",
    "\n",
    "#config=tf.ConfigProto(gpu_options=gpu_options)\n",
    "\n",
    "from tensorflow import keras\n",
    "\n",
    "from keras.models import Model, load_model\n",
    "\n",
    "#from tensorflow import keras\n",
    "#K = keras.backend\n",
    "\n",
    "##from tensorflow import keras\n",
    "K = keras.backend\n",
    "import keras, keras.layers as L\n",
    "#from keras import layers as L\n",
    "#from keras.models import Sequential\n",
    "from keras.layers import Input, Conv2D, Conv2DTranspose, MaxPooling2D, Concatenate, Dropout, BatchNormalization, UpSampling2D\n",
    "from keras.layers.core import Lambda, RepeatVector, Reshape\n",
    "from keras.layers.convolutional import Conv2D, Conv2DTranspose\n",
    "\n",
    "from keras.layers.normalization import BatchNormalization\n",
    "from keras.utils import plot_model\n",
    "from keras.models import Model\n",
    "from keras.layers import Input\n",
    "from keras.layers import Dropout, ZeroPadding2D\n",
    "from keras.layers.merge import concatenate\n",
    "\n",
    "from keras.layers.merge import concatenate\n",
    "from keras.layers import Activation, Dense, Cropping2D\n",
    "from keras.layers import LeakyReLU, Flatten, UpSampling2D, Deconv2D\n",
    "from keras.models import Model\n",
    "\n",
    "from keras.optimizers import Adam\n",
    "from keras.losses import binary_crossentropy\n",
    "from keras.callbacks import EarlyStopping, ModelCheckpoint, ReduceLROnPlateau\n",
    "from keras.preprocessing.image import ImageDataGenerator, array_to_img, img_to_array, load_img\n",
    "from keras.utils.vis_utils import plot_model\n",
    "from keras import backend as kbackend \n",
    "\n",
    "\n",
    "\n",
    "#keras.backendckend.backend()\n",
    "#from tensorflow import keras\n",
    "#import keras.backend.tensorflow_backend as K\n",
    "\n",
    "#K.set_session"
   ]
  },
  {
   "cell_type": "code",
   "execution_count": 2,
   "metadata": {},
   "outputs": [],
   "source": [
    "path = \"home/hampus/kaggle/tgssalt\"\n",
    "DIR = 'home/hampus/kaggle/tgssalt'\n",
    "path_train = \"home/hampus/kaggle/tgssalt/train\"\n",
    "path_test = 'home/hampus/kaggle/tgssalt/test'\n",
    "imgs_train = 'train/images'\n",
    "masks_train = 'train/masks'\n",
    "imgs_test = 'home/hampus/kaggle/tgssalt/test/images'\n",
    "\n",
    "IMG_SIZE = 101   # original/raw image size\n",
    "TGT_SIZE = 128   # model/input image size\n",
    "DPT_SIZE = 4     # CONV filter size when depth is input in model\n",
    "MAX_DEPTH = None # maximum depth('z') of seismic image, set after loading data"
   ]
  },
  {
   "cell_type": "code",
   "execution_count": 3,
   "metadata": {},
   "outputs": [],
   "source": [
    "train_df = pd.read_csv('train.csv', index_col=\"id\", usecols=[0])\n",
    "depths_df = pd.read_csv('depths.csv', index_col=\"id\")\n",
    "train_df = train_df.join(depths_df)\n",
    "test_df = depths_df[~depths_df.index.isin(train_df.index)]\n"
   ]
  },
  {
   "cell_type": "code",
   "execution_count": 4,
   "metadata": {},
   "outputs": [
    {
     "data": {
      "application/vnd.jupyter.widget-view+json": {
       "model_id": "6f767de9b7474f8aa35d102950a590de",
       "version_major": 2,
       "version_minor": 0
      },
      "text/plain": [
       "HBox(children=(IntProgress(value=0, max=4000), HTML(value='')))"
      ]
     },
     "metadata": {},
     "output_type": "display_data"
    },
    {
     "name": "stdout",
     "output_type": "stream",
     "text": [
      "\n"
     ]
    }
   ],
   "source": [
    "train_df[\"images\"] = [np.array(load_img('train/images/%s.png' % idx, grayscale=True)) / 255 \n",
    "                      for idx in tqdm_notebook(train_df.index)]"
   ]
  },
  {
   "cell_type": "code",
   "execution_count": 5,
   "metadata": {},
   "outputs": [
    {
     "data": {
      "application/vnd.jupyter.widget-view+json": {
       "model_id": "bd292ee1176e4336bc90b8a0c9276f7f",
       "version_major": 2,
       "version_minor": 0
      },
      "text/plain": [
       "HBox(children=(IntProgress(value=0, max=4000), HTML(value='')))"
      ]
     },
     "metadata": {},
     "output_type": "display_data"
    },
    {
     "name": "stdout",
     "output_type": "stream",
     "text": [
      "\n"
     ]
    }
   ],
   "source": [
    "train_df[\"masks\"] = [np.array(load_img('train/masks/%s.png' % idx, grayscale=True)) / 255 \n",
    "                     for idx in tqdm_notebook(train_df.index)]"
   ]
  },
  {
   "cell_type": "code",
   "execution_count": 6,
   "metadata": {},
   "outputs": [
    {
     "data": {
      "application/vnd.jupyter.widget-view+json": {
       "model_id": "432f6fcf49cc4f36874a8384655d1cd8",
       "version_major": 2,
       "version_minor": 0
      },
      "text/plain": [
       "HBox(children=(IntProgress(value=0, max=4000), HTML(value='')))"
      ]
     },
     "metadata": {},
     "output_type": "display_data"
    },
    {
     "name": "stdout",
     "output_type": "stream",
     "text": [
      "\n"
     ]
    },
    {
     "data": {
      "text/plain": [
       "(101, 101)"
      ]
     },
     "execution_count": 6,
     "metadata": {},
     "output_type": "execute_result"
    }
   ],
   "source": [
    "MAX_DEPTH = max(train_df[\"z\"])\n",
    "train_df[\"depth\"] = [np.ones_like(train_df.loc[i][\"images\"]) * train_df.loc[i][\"z\"] / MAX_DEPTH\n",
    "                     for i in tqdm_notebook(train_df.index)]\n",
    "train_df[\"depth\"][0].shape"
   ]
  },
  {
   "cell_type": "code",
   "execution_count": 7,
   "metadata": {},
   "outputs": [
    {
     "data": {
      "text/plain": [
       "(4000, 4)"
      ]
     },
     "execution_count": 7,
     "metadata": {},
     "output_type": "execute_result"
    }
   ],
   "source": [
    "train_df.shape"
   ]
  },
  {
   "cell_type": "code",
   "execution_count": 8,
   "metadata": {},
   "outputs": [
    {
     "data": {
      "text/html": [
       "<div>\n",
       "<table border=\"1\" class=\"dataframe\">\n",
       "  <thead>\n",
       "    <tr style=\"text-align: right;\">\n",
       "      <th></th>\n",
       "      <th>z</th>\n",
       "      <th>images</th>\n",
       "      <th>masks</th>\n",
       "      <th>depth</th>\n",
       "    </tr>\n",
       "    <tr>\n",
       "      <th>id</th>\n",
       "      <th></th>\n",
       "      <th></th>\n",
       "      <th></th>\n",
       "      <th></th>\n",
       "    </tr>\n",
       "  </thead>\n",
       "  <tbody>\n",
       "    <tr>\n",
       "      <th>575d24d81d</th>\n",
       "      <td>843</td>\n",
       "      <td>[[0.525490196078, 0.513725490196, 0.5254901960...</td>\n",
       "      <td>[[0.0, 0.0, 0.0, 0.0, 0.0, 0.0, 0.0, 0.0, 0.0,...</td>\n",
       "      <td>[[0.879040667362, 0.879040667362, 0.8790406673...</td>\n",
       "    </tr>\n",
       "    <tr>\n",
       "      <th>a266a2a9df</th>\n",
       "      <td>794</td>\n",
       "      <td>[[0.341176470588, 0.376470588235, 0.3333333333...</td>\n",
       "      <td>[[0.0, 0.0, 0.0, 0.0, 0.0, 0.0, 0.0, 0.0, 0.0,...</td>\n",
       "      <td>[[0.827945776851, 0.827945776851, 0.8279457768...</td>\n",
       "    </tr>\n",
       "    <tr>\n",
       "      <th>75efad62c1</th>\n",
       "      <td>468</td>\n",
       "      <td>[[0.56862745098, 0.466666666667, 0.32549019607...</td>\n",
       "      <td>[[0.0, 0.0, 0.0, 0.0, 0.0, 0.0, 0.0, 0.0, 0.0,...</td>\n",
       "      <td>[[0.488008342023, 0.488008342023, 0.4880083420...</td>\n",
       "    </tr>\n",
       "    <tr>\n",
       "      <th>34e51dba6a</th>\n",
       "      <td>727</td>\n",
       "      <td>[[0.541176470588, 0.474509803922, 0.3960784313...</td>\n",
       "      <td>[[0.0, 0.0, 0.0, 0.0, 0.0, 0.0, 0.0, 0.0, 0.0,...</td>\n",
       "      <td>[[0.758081334724, 0.758081334724, 0.7580813347...</td>\n",
       "    </tr>\n",
       "    <tr>\n",
       "      <th>4875705fb0</th>\n",
       "      <td>797</td>\n",
       "      <td>[[0.0666666666667, 0.078431372549, 0.090196078...</td>\n",
       "      <td>[[0.0, 0.0, 0.0, 0.0, 0.0, 0.0, 0.0, 0.0, 0.0,...</td>\n",
       "      <td>[[0.831074035454, 0.831074035454, 0.8310740354...</td>\n",
       "    </tr>\n",
       "  </tbody>\n",
       "</table>\n",
       "</div>"
      ],
      "text/plain": [
       "              z                                             images  \\\n",
       "id                                                                   \n",
       "575d24d81d  843  [[0.525490196078, 0.513725490196, 0.5254901960...   \n",
       "a266a2a9df  794  [[0.341176470588, 0.376470588235, 0.3333333333...   \n",
       "75efad62c1  468  [[0.56862745098, 0.466666666667, 0.32549019607...   \n",
       "34e51dba6a  727  [[0.541176470588, 0.474509803922, 0.3960784313...   \n",
       "4875705fb0  797  [[0.0666666666667, 0.078431372549, 0.090196078...   \n",
       "\n",
       "                                                        masks  \\\n",
       "id                                                              \n",
       "575d24d81d  [[0.0, 0.0, 0.0, 0.0, 0.0, 0.0, 0.0, 0.0, 0.0,...   \n",
       "a266a2a9df  [[0.0, 0.0, 0.0, 0.0, 0.0, 0.0, 0.0, 0.0, 0.0,...   \n",
       "75efad62c1  [[0.0, 0.0, 0.0, 0.0, 0.0, 0.0, 0.0, 0.0, 0.0,...   \n",
       "34e51dba6a  [[0.0, 0.0, 0.0, 0.0, 0.0, 0.0, 0.0, 0.0, 0.0,...   \n",
       "4875705fb0  [[0.0, 0.0, 0.0, 0.0, 0.0, 0.0, 0.0, 0.0, 0.0,...   \n",
       "\n",
       "                                                        depth  \n",
       "id                                                             \n",
       "575d24d81d  [[0.879040667362, 0.879040667362, 0.8790406673...  \n",
       "a266a2a9df  [[0.827945776851, 0.827945776851, 0.8279457768...  \n",
       "75efad62c1  [[0.488008342023, 0.488008342023, 0.4880083420...  \n",
       "34e51dba6a  [[0.758081334724, 0.758081334724, 0.7580813347...  \n",
       "4875705fb0  [[0.831074035454, 0.831074035454, 0.8310740354...  "
      ]
     },
     "execution_count": 8,
     "metadata": {},
     "output_type": "execute_result"
    }
   ],
   "source": [
    "train_df.head()"
   ]
  },
  {
   "cell_type": "code",
   "execution_count": 9,
   "metadata": {},
   "outputs": [],
   "source": [
    "def coverage(mask):\n",
    "    \"\"\"Compute coverage of salt mask \"\"\"\n",
    "    return np.sum(mask) / (mask.shape[0]*mask.shape[1])"
   ]
  },
  {
   "cell_type": "code",
   "execution_count": 10,
   "metadata": {},
   "outputs": [],
   "source": [
    "def coverage_class(mask):\n",
    "    \"\"\"Compute class coverage of salt mask \"\"\"\n",
    "    if coverage(mask) == 0:\n",
    "        return 0\n",
    "    return (coverage(mask) * 100 //10).astype(np.int8) +1"
   ]
  },
  {
   "cell_type": "code",
   "execution_count": 11,
   "metadata": {},
   "outputs": [],
   "source": [
    "def mem_used():\n",
    "    \"\"\"Memory used\"\"\"\n",
    "    import resource\n",
    "    return round(resource.getrusage(resource.RUSAGE_SELF)[2] * 10/1028 / 10, 1)"
   ]
  },
  {
   "cell_type": "code",
   "execution_count": 12,
   "metadata": {},
   "outputs": [
    {
     "data": {
      "text/plain": [
       "1239.2"
      ]
     },
     "execution_count": 12,
     "metadata": {},
     "output_type": "execute_result"
    }
   ],
   "source": [
    "mem_used()\n"
   ]
  },
  {
   "cell_type": "code",
   "execution_count": 13,
   "metadata": {},
   "outputs": [],
   "source": [
    "def mem_fun(fun, **kwargs):\n",
    "    \"\"\"\"\"\"\n",
    "    mem_start = mem_used()\n",
    "    _ = fun(**kwargs)\n",
    "    print('memory used by function: {}mb'.format((mem_used() - mem_start)))\n",
    "\n",
    "nb_mem = mem_used()"
   ]
  },
  {
   "cell_type": "code",
   "execution_count": 14,
   "metadata": {},
   "outputs": [],
   "source": [
    "#IMG_SIZE = 101   # original/raw image size\n",
    "#TGT_SIZE = 128   # model/input image size\n",
    "\n",
    "def upsample(img):\n",
    "    if IMG_SIZE == TGT_SIZE:\n",
    "        return img\n",
    "    return resize(img, (TGT_SIZE, TGT_SIZE), mode='constant', preserve_range=True)\n",
    "\n",
    "\n",
    "def downsample(img):\n",
    "    if IMG_SIZE == TGT_SIZE:\n",
    "        return img\n",
    "    return resize(img, (IMG_SIZE, IMG_SIZE), mode='constant', preserve_range=True)\n",
    "\n"
   ]
  },
  {
   "cell_type": "code",
   "execution_count": 15,
   "metadata": {},
   "outputs": [
    {
     "data": {
      "text/plain": [
       "1239.2"
      ]
     },
     "execution_count": 15,
     "metadata": {},
     "output_type": "execute_result"
    }
   ],
   "source": [
    "mem_used()"
   ]
  },
  {
   "cell_type": "code",
   "execution_count": 16,
   "metadata": {},
   "outputs": [],
   "source": [
    "train_df[\"coverage\"] = train_df.masks.map(np.sum) / pow(IMG_SIZE, 2)"
   ]
  },
  {
   "cell_type": "code",
   "execution_count": 17,
   "metadata": {},
   "outputs": [],
   "source": [
    "def covrage_to_class(val):    \n",
    "    for i in range(11):\n",
    "        if val * 10 <= i :\n",
    "            return i\n",
    "        \n",
    "train_df[\"coverage_class\"] = train_df.coverage.map(covrage_to_class)"
   ]
  },
  {
   "cell_type": "code",
   "execution_count": 18,
   "metadata": {},
   "outputs": [
    {
     "data": {
      "text/plain": [
       "<matplotlib.text.Text at 0x7f45946acc18>"
      ]
     },
     "execution_count": 18,
     "metadata": {},
     "output_type": "execute_result"
    },
    {
     "data": {
      "image/png": "[encoded data removed]",
      "text/plain": [
       "<matplotlib.figure.Figure at 0x7f4594735400>"
      ]
     },
     "metadata": {},
     "output_type": "display_data"
    }
   ],
   "source": [
    "fig, axs = plt.subplots(1, 2, figsize=(15,5))\n",
    "sns.distplot(train_df.coverage, kde=False, ax=axs[0])\n",
    "sns.distplot(train_df.coverage_class, bins=10, kde=False, ax=axs[1])\n",
    "plt.suptitle(\"Salt coverage\")\n",
    "axs[0].set_xlabel(\"Coverage\")\n",
    "axs[1].set_xlabel(\"Coverage class\")"
   ]
  },
  {
   "cell_type": "code",
   "execution_count": null,
   "metadata": {},
   "outputs": [],
   "source": [
    " "
   ]
  },
  {
   "cell_type": "code",
   "execution_count": 41,
   "metadata": {},
   "outputs": [
    {
     "data": {
      "text/plain": [
       "1248.4"
      ]
     },
     "execution_count": 41,
     "metadata": {},
     "output_type": "execute_result"
    }
   ],
   "source": [
    "mem_used()\n"
   ]
  },
  {
   "cell_type": "code",
   "execution_count": 39,
   "metadata": {},
   "outputs": [
    {
     "name": "stdout",
     "output_type": "stream",
     "text": [
      "468\n",
      "0.23\n"
     ]
    }
   ],
   "source": [
    "train_df['images'].shape[0]\n",
    "train_df['depth'].shape[0]\n",
    "print(train_df['z'][2])\n",
    "train_df['d'] = train_df.depth.map(np.max)\n",
    "train_df['d'] = np.round(train_df['d'],decimals=3)\n",
    "print(train_df['d'][-2])"
   ]
  },
  {
   "cell_type": "code",
   "execution_count": 20,
   "metadata": {},
   "outputs": [],
   "source": [
    "def shuffle(matrix, target, testproc):\n",
    "    ratio = matrix.shape[0]/test_proportion\n",
    "    X_train = matrix[ratio:,:]\n",
    "    X_test =  matrix[:ratio,:]\n",
    "    Y_train = target[ratio:,:]\n",
    "    Y_test =  target[:ratio,:]\n",
    "    return X_train, X_test, Y_train, Y_test\n",
    "\n",
    "X_train, X_test, Y_train, Y_test = shuffle(X, Y, 3)"
   ]
  },
  {
   "cell_type": "code",
   "execution_count": 40,
   "metadata": {},
   "outputs": [
    {
     "data": {
      "text/plain": [
       "1248.4"
      ]
     },
     "execution_count": 40,
     "metadata": {},
     "output_type": "execute_result"
    }
   ],
   "source": [
    "mem_used()"
   ]
  },
  {
   "cell_type": "code",
   "execution_count": 52,
   "metadata": {},
   "outputs": [],
   "source": [
    "x_train, x_valid, y_train, y_valid, cov_train, cov_test, depth_train, depth_test = train_test_split(\n",
    "    \n",
    "    #np.array(train_df.images.map(upsample).tolist()).reshape(-1, img_size_target, img_size_target, 1), \n",
    "    np.array(train_df.images.tolist()).reshape(-1,IMG_SIZE,IMG_SIZE,1),\n",
    "    #np.array(train_df.masks.map(upsample).tolist()).reshape(-1, img_size_target, img_size_target, 1),\n",
    "     np.array(train_df.masks.tolist()).reshape(-1,IMG_SIZE,IMG_SIZE,1),\n",
    "    train_df.coverage.values,\n",
    "    train_df.d.values,\n",
    "    test_size=0.15, stratify=train_df.coverage_class, random_state=42)"
   ]
  },
  {
   "cell_type": "code",
   "execution_count": 22,
   "metadata": {},
   "outputs": [
    {
     "data": {
      "text/plain": [
       "<function keras.backend.tensorflow_backend.set_session(session)>"
      ]
     },
     "execution_count": 22,
     "metadata": {},
     "output_type": "execute_result"
    }
   ],
   "source": [
    "def reset_tf_session():\n",
    "    K.clear_session()\n",
    "    tf.reset_default_graph()\n",
    "    #ses = K.get_session()\n",
    "    #return ses\n",
    "reset_tf_session()\n",
    "#s= tf.Session()\n",
    "#K.set_session\n",
    "keras.backend.set_session"
   ]
  },
  {
   "cell_type": "code",
   "execution_count": 47,
   "metadata": {
    "scrolled": true
   },
   "outputs": [
    {
     "name": "stdout",
     "output_type": "stream",
     "text": [
      "____________________________________________________________________________________________________\n",
      "Layer (type)                     Output Shape          Param #     Connected to                     \n",
      "====================================================================================================\n",
      "input_2 (InputLayer)             (None, 101, 101, 1)   0                                            \n",
      "____________________________________________________________________________________________________\n",
      "zero_padding2d_4 (ZeroPadding2D) (None, 102, 102, 1)   0           input_2[0][0]                    \n",
      "____________________________________________________________________________________________________\n",
      "conv2d_16 (Conv2D)               (None, 102, 102, 32)  320         zero_padding2d_4[0][0]           \n",
      "____________________________________________________________________________________________________\n",
      "dropout_5 (Dropout)              (None, 102, 102, 32)  0           conv2d_16[0][0]                  \n",
      "____________________________________________________________________________________________________\n",
      "conv2d_17 (Conv2D)               (None, 102, 102, 32)  9248        dropout_5[0][0]                  \n",
      "____________________________________________________________________________________________________\n",
      "batch_normalization_5 (BatchNorm (None, 102, 102, 32)  128         conv2d_17[0][0]                  \n",
      "____________________________________________________________________________________________________\n",
      "conv1 (Conv2D)                   (None, 51, 51, 32)    9248        batch_normalization_5[0][0]      \n",
      "____________________________________________________________________________________________________\n",
      "zero_padding2d_5 (ZeroPadding2D) (None, 52, 52, 32)    0           conv1[0][0]                      \n",
      "____________________________________________________________________________________________________\n",
      "conv2d_18 (Conv2D)               (None, 52, 52, 64)    18496       zero_padding2d_5[0][0]           \n",
      "____________________________________________________________________________________________________\n",
      "dropout_6 (Dropout)              (None, 52, 52, 64)    0           conv2d_18[0][0]                  \n",
      "____________________________________________________________________________________________________\n",
      "conv2d_19 (Conv2D)               (None, 52, 52, 64)    36928       dropout_6[0][0]                  \n",
      "____________________________________________________________________________________________________\n",
      "batch_normalization_6 (BatchNorm (None, 52, 52, 64)    256         conv2d_19[0][0]                  \n",
      "____________________________________________________________________________________________________\n",
      "conv2 (Conv2D)                   (None, 26, 26, 64)    36928       batch_normalization_6[0][0]      \n",
      "____________________________________________________________________________________________________\n",
      "conv2d_20 (Conv2D)               (None, 26, 26, 128)   73856       conv2[0][0]                      \n",
      "____________________________________________________________________________________________________\n",
      "dropout_7 (Dropout)              (None, 26, 26, 128)   0           conv2d_20[0][0]                  \n",
      "____________________________________________________________________________________________________\n",
      "conv2d_21 (Conv2D)               (None, 26, 26, 128)   147584      dropout_7[0][0]                  \n",
      "____________________________________________________________________________________________________\n",
      "batch_normalization_7 (BatchNorm (None, 26, 26, 128)   512         conv2d_21[0][0]                  \n",
      "____________________________________________________________________________________________________\n",
      "conv3 (Conv2D)                   (None, 13, 13, 128)   147584      batch_normalization_7[0][0]      \n",
      "____________________________________________________________________________________________________\n",
      "zero_padding2d_6 (ZeroPadding2D) (None, 14, 14, 128)   0           conv3[0][0]                      \n",
      "____________________________________________________________________________________________________\n",
      "conv2d_22 (Conv2D)               (None, 14, 14, 256)   295168      zero_padding2d_6[0][0]           \n",
      "____________________________________________________________________________________________________\n",
      "dropout_8 (Dropout)              (None, 14, 14, 256)   0           conv2d_22[0][0]                  \n",
      "____________________________________________________________________________________________________\n",
      "conv2d_23 (Conv2D)               (None, 14, 14, 256)   590080      dropout_8[0][0]                  \n",
      "____________________________________________________________________________________________________\n",
      "batch_normalization_8 (BatchNorm (None, 14, 14, 256)   1024        conv2d_23[0][0]                  \n",
      "____________________________________________________________________________________________________\n",
      "conv4 (Conv2D)                   (None, 14, 14, 256)   590080      batch_normalization_8[0][0]      \n",
      "____________________________________________________________________________________________________\n",
      "conv2d_transpose_4 (Conv2DTransp (None, 28, 28, 128)   131200      conv4[0][0]                      \n",
      "____________________________________________________________________________________________________\n",
      "cropping2d_4 (Cropping2D)        (None, 26, 26, 128)   0           conv2d_transpose_4[0][0]         \n",
      "____________________________________________________________________________________________________\n",
      "conv2d_24 (Conv2D)               (None, 26, 26, 128)   147584      cropping2d_4[0][0]               \n",
      "____________________________________________________________________________________________________\n",
      "conv2d_25 (Conv2D)               (None, 26, 26, 128)   147584      conv2d_24[0][0]                  \n",
      "____________________________________________________________________________________________________\n",
      "conv2d_transpose_5 (Conv2DTransp (None, 52, 52, 64)    32832       conv2d_25[0][0]                  \n",
      "____________________________________________________________________________________________________\n",
      "concatenate_5 (Concatenate)      (None, 52, 52, 128)   0           conv2d_transpose_5[0][0]         \n",
      "                                                                   batch_normalization_6[0][0]      \n",
      "____________________________________________________________________________________________________\n",
      "conv2d_26 (Conv2D)               (None, 52, 52, 64)    73792       concatenate_5[0][0]              \n",
      "____________________________________________________________________________________________________\n",
      "conv2d_27 (Conv2D)               (None, 52, 52, 64)    36928       conv2d_26[0][0]                  \n",
      "____________________________________________________________________________________________________\n",
      "cropping2d_5 (Cropping2D)        (None, 51, 51, 64)    0           conv2d_27[0][0]                  \n",
      "____________________________________________________________________________________________________\n",
      "conv2d_transpose_6 (Conv2DTransp (None, 102, 102, 32)  8224        cropping2d_5[0][0]               \n",
      "____________________________________________________________________________________________________\n",
      "concatenate_6 (Concatenate)      (None, 102, 102, 64)  0           conv2d_transpose_6[0][0]         \n",
      "                                                                   batch_normalization_5[0][0]      \n",
      "____________________________________________________________________________________________________\n",
      "cropping2d_6 (Cropping2D)        (None, 101, 101, 64)  0           concatenate_6[0][0]              \n",
      "____________________________________________________________________________________________________\n",
      "conv2d_28 (Conv2D)               (None, 101, 101, 32)  18464       cropping2d_6[0][0]               \n",
      "____________________________________________________________________________________________________\n",
      "conv2d_29 (Conv2D)               (None, 101, 101, 32)  9248        conv2d_28[0][0]                  \n",
      "____________________________________________________________________________________________________\n",
      "conv2d_30 (Conv2D)               (None, 101, 101, 1)   33          conv2d_29[0][0]                  \n",
      "====================================================================================================\n",
      "Total params: 2,563,329\n",
      "Trainable params: 2,562,369\n",
      "Non-trainable params: 960\n",
      "____________________________________________________________________________________________________\n",
      "None\n"
     ]
    }
   ],
   "source": [
    "\n",
    "inputs1 = Input((IMG_SIZE,IMG_SIZE,1))\n",
    "\n",
    "#First conv layer\n",
    "zeros1 = ZeroPadding2D(padding=((1,0),(1,0)))(inputs1)\n",
    "conv11 = Conv2D(32,kernel_size=(3, 3), strides =(1,1), activation=\"relu\", padding=\"same\")(zeros1)\n",
    "drop1 = Dropout(0.2)(conv11)\n",
    "conv12 = Conv2D(32,kernel_size=(3, 3), strides =(1,1), activation=\"relu\", padding=\"same\")(drop1)\n",
    "batch1 = BatchNormalization()(conv12)\n",
    "conv1 = Conv2D(32,kernel_size=(3, 3), strides =(2,2),activation=\"relu\",padding=\"same\",name=\"conv1\")(batch1)\n",
    "\n",
    "#Second conv layer\n",
    "zeros2 = ZeroPadding2D(padding=((1,0),(1,0)))(conv1)\n",
    "conv21 = Conv2D(64, kernel_size = (3,3), strides = ( 1,1), activation=\"relu\", padding=\"same\")(zeros2)\n",
    "drop2 = Dropout(0.3)(conv21)\n",
    "conv22 = Conv2D(64, kernel_size=(3,3), strides = (1,1), activation= \"relu\", padding = \"same\")(drop2)\n",
    "batch2 = BatchNormalization()(conv22)\n",
    "conv2 = Conv2D(64, kernel_size=(3,3), strides = (2,2), activation = \"relu\", padding = \"same\",name=\"conv2\")(batch2)\n",
    "\n",
    "\n",
    "#third conv layer\n",
    "#zeros3 = ZeroPadding2D(padding=((1,0),(1,0)))(conv2)\n",
    "conv31 = Conv2D(128, kernel_size = (3,3), strides = ( 1,1), activation=\"relu\", padding=\"same\")(conv2)\n",
    "drop3 = Dropout(0.3)(conv31)\n",
    "conv32 = Conv2D(128, kernel_size=(3,3), strides = (1,1), activation= \"relu\", padding = \"same\")(drop3)\n",
    "batch3 = BatchNormalization()(conv32)\n",
    "conv3 = Conv2D(128, kernel_size=(3,3), strides = (2,2), activation = \"relu\", padding = \"same\",name=\"conv3\")(batch3)\n",
    "\n",
    "\n",
    "#third conv layer\n",
    "zeros4 = ZeroPadding2D(padding=((1,0),(1,0)))(conv3)\n",
    "conv4 = Conv2D(256, kernel_size = (3,3), strides = ( 1,1), activation=\"relu\", padding=\"same\")(zeros4)\n",
    "drop4 = Dropout(0.5)(conv4)\n",
    "conv4 = Conv2D(256, kernel_size=(3,3), strides = (1,1), activation= \"relu\", padding = \"same\")(drop4)\n",
    "batch4 = BatchNormalization()(conv4)\n",
    "conv4 = Conv2D(256, kernel_size=(3,3), strides = (1,1), activation = \"relu\", padding = \"same\",name=\"conv4\")(batch4)\n",
    "\n",
    "\n",
    "#first upconv layer\n",
    "#up5 = Conv2DTranspose(128, (2, 2), strides=(2, 2), padding='same')(concatenate([Cropping2D(cropping=((1, 0), (1, 0)))(conv4), conv3], axis=3))\n",
    "up5 = Cropping2D(cropping=((1, 1), (1, 1)))(Conv2DTranspose(128, (2, 2), strides=(2, 2), padding='same')(conv4))\n",
    "con5 = concatenate([up5 , conv32], axis=3)\n",
    "conv5 = Conv2D(128, (3, 3), activation='relu', padding='same')(up5)\n",
    "conv5 = Conv2D(128, (3, 3), activation='relu', padding='same')(conv5)\n",
    "#26x26\n",
    "\n",
    "#second upconv layer Cropping2D(cropping=((1, 1), (1, 1)))\n",
    "#up6 = concatenate([Conv2DTranspose(256, (2, 2), strides=(2, 2), padding='same')(conv5), conv22], axis=3)\n",
    "#Conv2DTranspose(64, (2, 2), strides=(2, 2), padding='same')(concatenate([(conv5), conv2], axis=3))\n",
    "#conv6 = Conv2D(64, (3, 3), activation='relu', padding='same')(up6)\n",
    "#conv6 = Conv2D(64, (3, 3), activation='relu', padding='same')(conv6)\n",
    "\n",
    "up6 = (Conv2DTranspose(64, (2, 2), strides=(2, 2), padding='same')(conv5))\n",
    "con6 = concatenate([up6 , batch2], axis=3)\n",
    "conv6 = Conv2D(64, (3, 3), activation='relu', padding='same')(con6)\n",
    "conv6 = Conv2D(64, (3, 3), activation='relu', padding='same')(conv6)\n",
    "#52x52\n",
    "\n",
    "\n",
    "#third upconv layer\n",
    "up7 = (Conv2DTranspose(32, (2, 2), strides=(2, 2), padding='same')(Cropping2D(cropping=((1, 0), (1, 0)))(conv6)))\n",
    "con7 = concatenate([up7 , batch1], axis=3)\n",
    "crop7 = Cropping2D(cropping=((1, 0), (1, 0)))(con7)\n",
    "conv7 = Conv2D(32, (3, 3), activation='relu', padding='same')(crop7)\n",
    "conv7 = Conv2D(32, (3, 3), activation='relu', padding='same')(conv7)\n",
    "\n",
    "\n",
    "output = Conv2D(1,kernel_size = (1,1),activation = 'sigmoid')(conv7)\n",
    "\n",
    "Unetmodel = Model(inputs = [inputs1],outputs =output)\n",
    "print(Unetmodel.summary())\n",
    "\n",
    "Unetmodel.compile(loss=\"binary_crossentropy\", optimizer=\"adam\", metrics=[\"accuracy\"])\n"
   ]
  },
  {
   "cell_type": "code",
   "execution_count": 53,
   "metadata": {},
   "outputs": [
    {
     "data": {
      "text/plain": [
       "3126.6"
      ]
     },
     "execution_count": 53,
     "metadata": {},
     "output_type": "execute_result"
    }
   ],
   "source": [
    "mem_used()"
   ]
  },
  {
   "cell_type": "code",
   "execution_count": 54,
   "metadata": {},
   "outputs": [
    {
     "name": "stdout",
     "output_type": "stream",
     "text": [
      "Train on 3400 samples, validate on 600 samples\n",
      "Epoch 1/200\n",
      "3392/3400 [============================>.] - ETA: 0s - loss: 0.4423 - acc: 0.7943Epoch 00000: val_loss improved from inf to 5.58186, saving model to ./keras.model\n",
      "3400/3400 [==============================] - 35s - loss: 0.4415 - acc: 0.7947 - val_loss: 5.5819 - val_acc: 0.2494\n",
      "Epoch 2/200\n",
      "3392/3400 [============================>.] - ETA: 0s - loss: 0.3301 - acc: 0.8748Epoch 00001: val_loss improved from 5.58186 to 2.73643, saving model to ./keras.model\n",
      "3400/3400 [==============================] - 27s - loss: 0.3297 - acc: 0.8750 - val_loss: 2.7364 - val_acc: 0.2494\n",
      "Epoch 3/200\n",
      "3392/3400 [============================>.] - ETA: 0s - loss: 0.3067 - acc: 0.8874Epoch 00002: val_loss improved from 2.73643 to 2.18683, saving model to ./keras.model\n",
      "3400/3400 [==============================] - 25s - loss: 0.3064 - acc: 0.8876 - val_loss: 2.1868 - val_acc: 0.2659\n",
      "Epoch 4/200\n",
      "3392/3400 [============================>.] - ETA: 0s - loss: 0.2755 - acc: 0.8989Epoch 00003: val_loss did not improve\n",
      "3400/3400 [==============================] - 24s - loss: 0.2755 - acc: 0.8990 - val_loss: 4.0998 - val_acc: 0.3480\n",
      "Epoch 5/200\n",
      "3392/3400 [============================>.] - ETA: 0s - loss: 0.2526 - acc: 0.9054Epoch 00004: val_loss improved from 2.18683 to 0.37181, saving model to ./keras.model\n",
      "3400/3400 [==============================] - 25s - loss: 0.2529 - acc: 0.9053 - val_loss: 0.3718 - val_acc: 0.8331\n",
      "Epoch 6/200\n",
      "3392/3400 [============================>.] - ETA: 0s - loss: 0.2447 - acc: 0.9109Epoch 00005: val_loss improved from 0.37181 to 0.29078, saving model to ./keras.model\n",
      "3400/3400 [==============================] - 25s - loss: 0.2446 - acc: 0.9109 - val_loss: 0.2908 - val_acc: 0.8852\n",
      "Epoch 7/200\n",
      "3392/3400 [============================>.] - ETA: 0s - loss: 0.2442 - acc: 0.9111Epoch 00006: val_loss improved from 0.29078 to 0.26185, saving model to ./keras.model\n",
      "3400/3400 [==============================] - 25s - loss: 0.2445 - acc: 0.9109 - val_loss: 0.2619 - val_acc: 0.9008\n",
      "Epoch 8/200\n",
      "3392/3400 [============================>.] - ETA: 0s - loss: 0.2298 - acc: 0.9158Epoch 00007: val_loss did not improve\n",
      "3400/3400 [==============================] - 24s - loss: 0.2294 - acc: 0.9160 - val_loss: 0.3558 - val_acc: 0.8877\n",
      "Epoch 9/200\n",
      "3392/3400 [============================>.] - ETA: 0s - loss: 0.2194 - acc: 0.9179Epoch 00008: val_loss did not improve\n",
      "3400/3400 [==============================] - 24s - loss: 0.2194 - acc: 0.9179 - val_loss: 0.2808 - val_acc: 0.8836\n",
      "Epoch 10/200\n",
      "3392/3400 [============================>.] - ETA: 0s - loss: 0.2160 - acc: 0.9196Epoch 00009: val_loss did not improve\n",
      "3400/3400 [==============================] - 24s - loss: 0.2159 - acc: 0.9196 - val_loss: 0.2685 - val_acc: 0.9101\n",
      "Epoch 11/200\n",
      "3392/3400 [============================>.] - ETA: 0s - loss: 0.2107 - acc: 0.9220Epoch 00010: val_loss improved from 0.26185 to 0.22637, saving model to ./keras.model\n",
      "3400/3400 [==============================] - 25s - loss: 0.2104 - acc: 0.9221 - val_loss: 0.2264 - val_acc: 0.9129\n",
      "Epoch 12/200\n",
      "3392/3400 [============================>.] - ETA: 0s - loss: 0.1948 - acc: 0.9262Epoch 00011: val_loss did not improve\n",
      "3400/3400 [==============================] - 24s - loss: 0.1945 - acc: 0.9264 - val_loss: 0.2538 - val_acc: 0.9060\n",
      "Epoch 13/200\n",
      "3392/3400 [============================>.] - ETA: 0s - loss: 0.1982 - acc: 0.9264Epoch 00012: val_loss improved from 0.22637 to 0.19739, saving model to ./keras.model\n",
      "3400/3400 [==============================] - 25s - loss: 0.1983 - acc: 0.9262 - val_loss: 0.1974 - val_acc: 0.9246\n",
      "Epoch 14/200\n",
      "3392/3400 [============================>.] - ETA: 0s - loss: 0.1822 - acc: 0.9318Epoch 00013: val_loss did not improve\n",
      "3400/3400 [==============================] - 24s - loss: 0.1820 - acc: 0.9319 - val_loss: 0.2251 - val_acc: 0.9190\n",
      "Epoch 15/200\n",
      "3392/3400 [============================>.] - ETA: 0s - loss: 0.1829 - acc: 0.9307Epoch 00014: val_loss did not improve\n",
      "3400/3400 [==============================] - 24s - loss: 0.1827 - acc: 0.9308 - val_loss: 0.2589 - val_acc: 0.9131\n",
      "Epoch 16/200\n",
      "3392/3400 [============================>.] - ETA: 0s - loss: 0.1778 - acc: 0.9323Epoch 00015: val_loss did not improve\n",
      "3400/3400 [==============================] - 24s - loss: 0.1776 - acc: 0.9324 - val_loss: 0.2151 - val_acc: 0.9140\n",
      "Epoch 17/200\n",
      "3392/3400 [============================>.] - ETA: 0s - loss: 0.1849 - acc: 0.9306Epoch 00016: val_loss did not improve\n",
      "3400/3400 [==============================] - 24s - loss: 0.1849 - acc: 0.9307 - val_loss: 0.2168 - val_acc: 0.9227\n",
      "Epoch 18/200\n",
      "3392/3400 [============================>.] - ETA: 0s - loss: 0.1716 - acc: 0.9352Epoch 00017: val_loss did not improve\n",
      "3400/3400 [==============================] - 24s - loss: 0.1717 - acc: 0.9351 - val_loss: 0.2138 - val_acc: 0.9148\n",
      "Epoch 19/200\n",
      "3392/3400 [============================>.] - ETA: 0s - loss: 0.1714 - acc: 0.9366Epoch 00018: val_loss improved from 0.19739 to 0.19678, saving model to ./keras.model\n",
      "3400/3400 [==============================] - 25s - loss: 0.1713 - acc: 0.9366 - val_loss: 0.1968 - val_acc: 0.9229\n",
      "Epoch 20/200\n",
      "3392/3400 [============================>.] - ETA: 0s - loss: 0.1723 - acc: 0.9376Epoch 00019: val_loss did not improve\n",
      "3400/3400 [==============================] - 24s - loss: 0.1722 - acc: 0.9376 - val_loss: 0.2323 - val_acc: 0.9091\n",
      "Epoch 21/200\n",
      "3392/3400 [============================>.] - ETA: 0s - loss: 0.1610 - acc: 0.9391Epoch 00020: val_loss did not improve\n",
      "3400/3400 [==============================] - 24s - loss: 0.1609 - acc: 0.9392 - val_loss: 0.3109 - val_acc: 0.8935\n",
      "Epoch 22/200\n",
      "3392/3400 [============================>.] - ETA: 0s - loss: 0.1574 - acc: 0.9383Epoch 00021: val_loss did not improve\n",
      "3400/3400 [==============================] - 24s - loss: 0.1573 - acc: 0.9384 - val_loss: 0.2755 - val_acc: 0.9032\n",
      "Epoch 23/200\n",
      "3392/3400 [============================>.] - ETA: 0s - loss: 0.1665 - acc: 0.9360Epoch 00022: val_loss did not improve\n",
      "3400/3400 [==============================] - 24s - loss: 0.1662 - acc: 0.9361 - val_loss: 0.2862 - val_acc: 0.9158\n",
      "Epoch 24/200\n",
      "3392/3400 [============================>.] - ETA: 0s - loss: 0.1610 - acc: 0.9398Epoch 00023: val_loss did not improve\n",
      "3400/3400 [==============================] - 24s - loss: 0.1616 - acc: 0.9395 - val_loss: 0.2080 - val_acc: 0.9242\n",
      "Epoch 25/200\n",
      "3392/3400 [============================>.] - ETA: 0s - loss: 0.1553 - acc: 0.9396Epoch 00024: val_loss did not improve\n",
      "3400/3400 [==============================] - 24s - loss: 0.1552 - acc: 0.9396 - val_loss: 0.3399 - val_acc: 0.8980\n",
      "Epoch 26/200\n",
      "3392/3400 [============================>.] - ETA: 0s - loss: 0.1571 - acc: 0.9410Epoch 00025: val_loss improved from 0.19678 to 0.17172, saving model to ./keras.model\n",
      "3400/3400 [==============================] - 25s - loss: 0.1580 - acc: 0.9407 - val_loss: 0.1717 - val_acc: 0.9351\n",
      "Epoch 27/200\n",
      "3392/3400 [============================>.] - ETA: 0s - loss: 0.1505 - acc: 0.9423Epoch 00026: val_loss did not improve\n",
      "3400/3400 [==============================] - 24s - loss: 0.1509 - acc: 0.9421 - val_loss: 0.2082 - val_acc: 0.9190\n",
      "Epoch 28/200\n",
      "3392/3400 [============================>.] - ETA: 0s - loss: 0.1457 - acc: 0.9441Epoch 00027: val_loss did not improve\n",
      "3400/3400 [==============================] - 24s - loss: 0.1456 - acc: 0.9442 - val_loss: 0.1839 - val_acc: 0.9332\n",
      "Epoch 29/200\n",
      "3392/3400 [============================>.] - ETA: 0s - loss: 0.1403 - acc: 0.9467Epoch 00028: val_loss did not improve\n",
      "3400/3400 [==============================] - 24s - loss: 0.1403 - acc: 0.9467 - val_loss: 0.1877 - val_acc: 0.9287\n",
      "Epoch 30/200\n",
      "3392/3400 [============================>.] - ETA: 0s - loss: 0.1340 - acc: 0.9472Epoch 00029: val_loss improved from 0.17172 to 0.17077, saving model to ./keras.model\n",
      "3400/3400 [==============================] - 25s - loss: 0.1342 - acc: 0.9471 - val_loss: 0.1708 - val_acc: 0.9333\n",
      "Epoch 31/200\n",
      "3392/3400 [============================>.] - ETA: 0s - loss: 0.1409 - acc: 0.9459Epoch 00030: val_loss did not improve\n",
      "3400/3400 [==============================] - 24s - loss: 0.1408 - acc: 0.9460 - val_loss: 0.2048 - val_acc: 0.9247\n",
      "Epoch 32/200\n",
      "3392/3400 [============================>.] - ETA: 0s - loss: 0.1329 - acc: 0.9488Epoch 00031: val_loss did not improve\n",
      "3400/3400 [==============================] - 24s - loss: 0.1329 - acc: 0.9488 - val_loss: 0.1793 - val_acc: 0.9365\n",
      "Epoch 33/200\n",
      "3392/3400 [============================>.] - ETA: 0s - loss: 0.1346 - acc: 0.9485Epoch 00032: val_loss did not improve\n",
      "3400/3400 [==============================] - 24s - loss: 0.1351 - acc: 0.9483 - val_loss: 0.2073 - val_acc: 0.9237\n",
      "Epoch 34/200\n",
      "3392/3400 [============================>.] - ETA: 0s - loss: 0.1549 - acc: 0.9417Epoch 00033: val_loss did not improve\n",
      "3400/3400 [==============================] - 24s - loss: 0.1548 - acc: 0.9418 - val_loss: 0.2432 - val_acc: 0.9108\n",
      "Epoch 35/200\n",
      "3392/3400 [============================>.] - ETA: 0s - loss: 0.1226 - acc: 0.9518Epoch 00034: val_loss did not improve\n",
      "3400/3400 [==============================] - 24s - loss: 0.1226 - acc: 0.9519 - val_loss: 0.2064 - val_acc: 0.9318\n",
      "Epoch 36/200\n",
      "3392/3400 [============================>.] - ETA: 0s - loss: 0.1280 - acc: 0.9504Epoch 00035: val_loss did not improve\n",
      "3400/3400 [==============================] - 24s - loss: 0.1286 - acc: 0.9502 - val_loss: 0.2247 - val_acc: 0.9194\n",
      "Epoch 37/200\n",
      "3392/3400 [============================>.] - ETA: 0s - loss: 0.1318 - acc: 0.9483Epoch 00036: val_loss did not improve\n",
      "\n",
      "Epoch 00036: reducing learning rate to 0.00010000000474974513.\n",
      "3400/3400 [==============================] - 25s - loss: 0.1317 - acc: 0.9483 - val_loss: 0.2080 - val_acc: 0.9263\n",
      "Epoch 38/200\n",
      "3392/3400 [============================>.] - ETA: 0s - loss: 0.1101 - acc: 0.9570Epoch 00037: val_loss did not improve\n",
      "3400/3400 [==============================] - 24s - loss: 0.1106 - acc: 0.9569 - val_loss: 0.1801 - val_acc: 0.9340\n",
      "Epoch 39/200\n",
      "3392/3400 [============================>.] - ETA: 0s - loss: 0.1052 - acc: 0.9592Epoch 00038: val_loss did not improve\n",
      "3400/3400 [==============================] - 24s - loss: 0.1053 - acc: 0.9591 - val_loss: 0.1863 - val_acc: 0.9325\n",
      "Epoch 40/200\n",
      "3392/3400 [============================>.] - ETA: 0s - loss: 0.1013 - acc: 0.9607Epoch 00039: val_loss did not improve\n",
      "3400/3400 [==============================] - 24s - loss: 0.1014 - acc: 0.9607 - val_loss: 0.1760 - val_acc: 0.9363\n",
      "Epoch 41/200\n",
      "3392/3400 [============================>.] - ETA: 0s - loss: 0.0983 - acc: 0.9622Epoch 00040: val_loss did not improve\n",
      "3400/3400 [==============================] - 24s - loss: 0.0982 - acc: 0.9622 - val_loss: 0.1723 - val_acc: 0.9366\n",
      "Epoch 00040: early stopping\n"
     ]
    }
   ],
   "source": [
    "early_stopping = EarlyStopping(patience=10, verbose=1)\n",
    "model_checkpoint = ModelCheckpoint(\"./keras.model\", save_best_only=True, verbose=1)\n",
    "reduce_lr = ReduceLROnPlateau(factor=0.1, patience=6, min_lr=0.00001, verbose=1)\n",
    "\n",
    "epochs = 200\n",
    "batch_size = 32\n",
    "\n",
    "history = Unetmodel.fit(x_train, y_train,\n",
    "                    validation_data=[x_valid, y_valid], \n",
    "                    epochs=epochs,\n",
    "                    batch_size=batch_size,\n",
    "                    callbacks=[early_stopping, model_checkpoint, reduce_lr])"
   ]
  },
  {
   "cell_type": "code",
   "execution_count": 55,
   "metadata": {},
   "outputs": [
    {
     "data": {
      "text/plain": [
       "3358.7"
      ]
     },
     "execution_count": 55,
     "metadata": {},
     "output_type": "execute_result"
    }
   ],
   "source": [
    "mem_used()"
   ]
  },
  {
   "cell_type": "code",
   "execution_count": 56,
   "metadata": {},
   "outputs": [],
   "source": [
    "def mean_iou(Y_true, Y_pred, score_thres=0.5):\n",
    "    \"\"\"Compute mean(IoU) metric\n",
    "    IoU = intersection / union\n",
    "    \n",
    "    For each (mask)threshold in provided range:\n",
    "     - convert probability mask to boolean mask based on given threshold\n",
    "     - score the mask 1 if(IoU > score_threshold(0.5))\n",
    "    Take the mean of the scoress\n",
    "\n",
    "    https://www.tensorflow.org/api_docs/python/tf/metrics/mean_iou\n",
    "    \"\"\"\n",
    "    prec = []\n",
    "    for t in np.arange(0.5, 1.0, 0.05):\n",
    "        Y_pred_bool = tf.to_int32(Y_pred > t) # boolean mask by threshold\n",
    "        score, update_op = tf.metrics.mean_iou(Y_true, Y_pred_bool, 2)\n",
    "        K.get_session().run(tf.local_variables_initializer())\n",
    "        with tf.control_dependencies([update_op]):\n",
    "            score = tf.identity(score) #!! use identity to transform score to tensor\n",
    "        prec.append(score) \n",
    "        \n",
    "    return K.mean(K.stack(prec), axis=0)\n"
   ]
  },
  {
   "cell_type": "code",
   "execution_count": null,
   "metadata": {},
   "outputs": [],
   "source": []
  },
  {
   "cell_type": "code",
   "execution_count": null,
   "metadata": {},
   "outputs": [],
   "source": []
  },
  {
   "cell_type": "code",
   "execution_count": null,
   "metadata": {},
   "outputs": [],
   "source": []
  },
  {
   "cell_type": "code",
   "execution_count": null,
   "metadata": {},
   "outputs": [],
   "source": []
  }
 ],
 "metadata": {
  "kernelspec": {
   "display_name": "test-gpu",
   "language": "python",
   "name": "tftest2"
  },
  "language_info": {
   "codemirror_mode": {
    "name": "ipython",
    "version": 3
   },
   "file_extension": ".py",
   "mimetype": "text/x-python",
   "name": "python",
   "nbconvert_exporter": "python",
   "pygments_lexer": "ipython3",
   "version": "3.5.5"
  }
 },
 "nbformat": 4,
 "nbformat_minor": 2
}
